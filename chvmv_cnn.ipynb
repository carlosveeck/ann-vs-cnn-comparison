{
  "nbformat": 4,
  "nbformat_minor": 0,
  "metadata": {
    "colab": {
      "provenance": [],
      "gpuType": "T4"
    },
    "kernelspec": {
      "name": "python3",
      "display_name": "Python 3"
    },
    "language_info": {
      "name": "python"
    },
    "accelerator": "GPU"
  },
  "cells": [
    {
      "cell_type": "markdown",
      "source": [
        "# Importando bibliotecas"
      ],
      "metadata": {
        "id": "qExskkLb3_FJ"
      }
    },
    {
      "cell_type": "code",
      "execution_count": 1,
      "metadata": {
        "id": "bf6DayOxne06"
      },
      "outputs": [],
      "source": [
        "import pandas as pd\n",
        "from keras.datasets import mnist\n",
        "from keras.layers import Dense, Dropout\n",
        "from keras.utils import to_categorical\n",
        "from keras import models\n",
        "\n"
      ]
    },
    {
      "cell_type": "markdown",
      "source": [
        "# Acessando dataset e formatando dados"
      ],
      "metadata": {
        "id": "niRGMaAF4Hak"
      }
    },
    {
      "cell_type": "code",
      "source": [
        "(x_train, y_train), (x_valid, y_valid) = mnist.load_data()"
      ],
      "metadata": {
        "id": "f986yW28qfRm",
        "colab": {
          "base_uri": "https://localhost:8080/"
        },
        "outputId": "02b50ca5-ef35-4f2b-a958-27883cf86d71"
      },
      "execution_count": 2,
      "outputs": [
        {
          "output_type": "stream",
          "name": "stdout",
          "text": [
            "Downloading data from https://storage.googleapis.com/tensorflow/tf-keras-datasets/mnist.npz\n",
            "11490434/11490434 [==============================] - 0s 0us/step\n"
          ]
        }
      ]
    },
    {
      "cell_type": "code",
      "source": [
        "x_train = x_train.reshape((x_train.shape[0], 28 * 28))\n",
        "x_train = x_train.astype('float32') / 255\n",
        "x_valid = x_valid.reshape((x_valid.shape[0], 28*28))\n",
        "x_valid = x_valid.astype('float32') / 255"
      ],
      "metadata": {
        "id": "nd2Fa5LPqp_1"
      },
      "execution_count": 3,
      "outputs": []
    },
    {
      "cell_type": "markdown",
      "source": [
        "# Categorizando as labels e formatando pro CNN"
      ],
      "metadata": {
        "id": "bMnrOFz14ki9"
      }
    },
    {
      "cell_type": "code",
      "source": [
        "y_train = to_categorical(y_train, 10)\n",
        "y_valid = to_categorical(y_valid, 10)"
      ],
      "metadata": {
        "id": "dDpzXsBwqyhL"
      },
      "execution_count": 4,
      "outputs": []
    },
    {
      "cell_type": "code",
      "source": [
        "x_train = x_train.reshape(-1,28,28,1)\n",
        "x_valid = x_valid.reshape(-1,28,28,1)"
      ],
      "metadata": {
        "id": "DQYWas5qChNl"
      },
      "execution_count": 5,
      "outputs": []
    },
    {
      "cell_type": "code",
      "source": [
        "x_train.shape, x_valid.shape"
      ],
      "metadata": {
        "colab": {
          "base_uri": "https://localhost:8080/"
        },
        "id": "2qmVtPvqDHuS",
        "outputId": "477cde73-a1ea-4f6c-c0eb-cab0c9a178fe"
      },
      "execution_count": 6,
      "outputs": [
        {
          "output_type": "execute_result",
          "data": {
            "text/plain": [
              "((60000, 28, 28, 1), (10000, 28, 28, 1))"
            ]
          },
          "metadata": {},
          "execution_count": 6
        }
      ]
    },
    {
      "cell_type": "markdown",
      "source": [
        "# Visualizando os dados trabalhados"
      ],
      "metadata": {
        "id": "u-oHTzHg4UiL"
      }
    },
    {
      "cell_type": "code",
      "source": [
        "import matplotlib.pyplot as plt\n",
        "plt.figure(figsize=(40,40))\n",
        "\n",
        "num_images = 20\n",
        "for i in range(num_images):\n",
        "    row = x_train[i]\n",
        "    label = y_train[i]\n",
        "\n",
        "    image = row.reshape(28,28)\n",
        "    plt.subplot(1, num_images, i+1)\n",
        "    plt.axis('off')\n",
        "    plt.imshow(image, cmap='gray')"
      ],
      "metadata": {
        "colab": {
          "base_uri": "https://localhost:8080/",
          "height": 80
        },
        "id": "oi9HW-5TrU7w",
        "outputId": "0c277054-21c3-4f00-e6e8-bc8d1091369a"
      },
      "execution_count": 7,
      "outputs": [
        {
          "output_type": "display_data",
          "data": {
            "text/plain": [
              "<Figure size 4000x4000 with 20 Axes>"
            ],
            "image/png": "[encoded data removed]"
          },
          "metadata": {}
        }
      ]
    },
    {
      "cell_type": "markdown",
      "source": [
        "# Verificando se está normalizado"
      ],
      "metadata": {
        "id": "Q2nOQAWO4Y4o"
      }
    },
    {
      "cell_type": "code",
      "source": [
        "x_train.min()"
      ],
      "metadata": {
        "colab": {
          "base_uri": "https://localhost:8080/"
        },
        "id": "pSV8k7_Erg15",
        "outputId": "f43458fc-6e98-480e-9cac-ff18d15daeca"
      },
      "execution_count": 8,
      "outputs": [
        {
          "output_type": "execute_result",
          "data": {
            "text/plain": [
              "0.0"
            ]
          },
          "metadata": {},
          "execution_count": 8
        }
      ]
    },
    {
      "cell_type": "code",
      "source": [
        "x_train.max()"
      ],
      "metadata": {
        "colab": {
          "base_uri": "https://localhost:8080/"
        },
        "id": "_iwSF4aWrhet",
        "outputId": "49452256-21e8-4a35-8936-92c898fda0ac"
      },
      "execution_count": 9,
      "outputs": [
        {
          "output_type": "execute_result",
          "data": {
            "text/plain": [
              "1.0"
            ]
          },
          "metadata": {},
          "execution_count": 9
        }
      ]
    },
    {
      "cell_type": "code",
      "source": [
        "x_valid.min()"
      ],
      "metadata": {
        "colab": {
          "base_uri": "https://localhost:8080/"
        },
        "id": "A8KvvEs7tfcD",
        "outputId": "083e7d46-2128-4db6-b409-975f4f29db24"
      },
      "execution_count": 10,
      "outputs": [
        {
          "output_type": "execute_result",
          "data": {
            "text/plain": [
              "0.0"
            ]
          },
          "metadata": {},
          "execution_count": 10
        }
      ]
    },
    {
      "cell_type": "code",
      "source": [
        "x_valid.max()"
      ],
      "metadata": {
        "colab": {
          "base_uri": "https://localhost:8080/"
        },
        "id": "ZhTFVFsZtfQ0",
        "outputId": "1c80ac3d-7c88-4719-eff2-672539df8db9"
      },
      "execution_count": 11,
      "outputs": [
        {
          "output_type": "execute_result",
          "data": {
            "text/plain": [
              "1.0"
            ]
          },
          "metadata": {},
          "execution_count": 11
        }
      ]
    },
    {
      "cell_type": "code",
      "source": [
        "print(y_train)"
      ],
      "metadata": {
        "colab": {
          "base_uri": "https://localhost:8080/"
        },
        "id": "YtnHvQlZvl5U",
        "outputId": "841a2714-ffff-4ee8-f6c4-b48a73a3c88d"
      },
      "execution_count": 12,
      "outputs": [
        {
          "output_type": "stream",
          "name": "stdout",
          "text": [
            "[[0. 0. 0. ... 0. 0. 0.]\n",
            " [1. 0. 0. ... 0. 0. 0.]\n",
            " [0. 0. 0. ... 0. 0. 0.]\n",
            " ...\n",
            " [0. 0. 0. ... 0. 0. 0.]\n",
            " [0. 0. 0. ... 0. 0. 0.]\n",
            " [0. 0. 0. ... 0. 1. 0.]]\n"
          ]
        }
      ]
    },
    {
      "cell_type": "code",
      "source": [
        "print(y_valid)"
      ],
      "metadata": {
        "colab": {
          "base_uri": "https://localhost:8080/"
        },
        "id": "2RSOch9Gvlx8",
        "outputId": "bdefdd7a-836e-4507-df12-a4224be89e7f"
      },
      "execution_count": 13,
      "outputs": [
        {
          "output_type": "stream",
          "name": "stdout",
          "text": [
            "[[0. 0. 0. ... 1. 0. 0.]\n",
            " [0. 0. 1. ... 0. 0. 0.]\n",
            " [0. 1. 0. ... 0. 0. 0.]\n",
            " ...\n",
            " [0. 0. 0. ... 0. 0. 0.]\n",
            " [0. 0. 0. ... 0. 0. 0.]\n",
            " [0. 0. 0. ... 0. 0. 0.]]\n"
          ]
        }
      ]
    },
    {
      "cell_type": "markdown",
      "source": [
        "# Construindo a CNN"
      ],
      "metadata": {
        "id": "htb_6HRk4sFJ"
      }
    },
    {
      "cell_type": "code",
      "source": [
        "from tensorflow.keras.models import Sequential\n",
        "from tensorflow.keras.layers import (\n",
        "    Dense,\n",
        "    Conv2D,\n",
        "    MaxPool2D,\n",
        "    Flatten,\n",
        "    Dropout,\n",
        "    BatchNormalization,\n",
        ")\n",
        "\n",
        "model = Sequential()\n",
        "model.add(Conv2D(75, (3, 3), strides=1, padding=\"same\", activation=\"relu\",\n",
        "                 input_shape=(28, 28, 1)))\n",
        "model.add(BatchNormalization())\n",
        "model.add(MaxPool2D((2, 2), strides=2, padding=\"same\"))\n",
        "model.add(Conv2D(50, (3, 3), strides=1, padding=\"same\", activation=\"relu\"))\n",
        "model.add(Dropout(0.2))\n",
        "model.add(BatchNormalization())\n",
        "model.add(MaxPool2D((2, 2), strides=2, padding=\"same\"))\n",
        "model.add(Conv2D(25, (3, 3), strides=1, padding=\"same\", activation=\"relu\"))\n",
        "model.add(BatchNormalization())\n",
        "model.add(MaxPool2D((2, 2), strides=2, padding=\"same\"))\n",
        "model.add(Flatten())\n",
        "model.add(Dense(units=512, activation=\"relu\"))\n",
        "model.add(Dropout(0.3))\n",
        "model.add(Dense(units=10, activation=\"softmax\"))"
      ],
      "metadata": {
        "id": "b0fDIdjwv7LT"
      },
      "execution_count": 14,
      "outputs": []
    },
    {
      "cell_type": "code",
      "source": [
        "model.summary()"
      ],
      "metadata": {
        "colab": {
          "base_uri": "https://localhost:8080/"
        },
        "id": "2fubrI_YDwSg",
        "outputId": "7f290171-3e59-4822-dd49-2b1191836b36"
      },
      "execution_count": 15,
      "outputs": [
        {
          "output_type": "stream",
          "name": "stdout",
          "text": [
            "Model: \"sequential\"\n",
            "_________________________________________________________________\n",
            " Layer (type)                Output Shape              Param #   \n",
            "=================================================================\n",
            " conv2d (Conv2D)             (None, 28, 28, 75)        750       \n",
            "                                                                 \n",
            " batch_normalization (Batch  (None, 28, 28, 75)        300       \n",
            " Normalization)                                                  \n",
            "                                                                 \n",
            " max_pooling2d (MaxPooling2  (None, 14, 14, 75)        0         \n",
            " D)                                                              \n",
            "                                                                 \n",
            " conv2d_1 (Conv2D)           (None, 14, 14, 50)        33800     \n",
            "                                                                 \n",
            " dropout (Dropout)           (None, 14, 14, 50)        0         \n",
            "                                                                 \n",
            " batch_normalization_1 (Bat  (None, 14, 14, 50)        200       \n",
            " chNormalization)                                                \n",
            "                                                                 \n",
            " max_pooling2d_1 (MaxPoolin  (None, 7, 7, 50)          0         \n",
            " g2D)                                                            \n",
            "                                                                 \n",
            " conv2d_2 (Conv2D)           (None, 7, 7, 25)          11275     \n",
            "                                                                 \n",
            " batch_normalization_2 (Bat  (None, 7, 7, 25)          100       \n",
            " chNormalization)                                                \n",
            "                                                                 \n",
            " max_pooling2d_2 (MaxPoolin  (None, 4, 4, 25)          0         \n",
            " g2D)                                                            \n",
            "                                                                 \n",
            " flatten (Flatten)           (None, 400)               0         \n",
            "                                                                 \n",
            " dense (Dense)               (None, 512)               205312    \n",
            "                                                                 \n",
            " dropout_1 (Dropout)         (None, 512)               0         \n",
            "                                                                 \n",
            " dense_1 (Dense)             (None, 10)                5130      \n",
            "                                                                 \n",
            "=================================================================\n",
            "Total params: 256867 (1003.39 KB)\n",
            "Trainable params: 256567 (1002.21 KB)\n",
            "Non-trainable params: 300 (1.17 KB)\n",
            "_________________________________________________________________\n"
          ]
        }
      ]
    },
    {
      "cell_type": "markdown",
      "source": [
        "#Compilando"
      ],
      "metadata": {
        "id": "ennqGD1U4wA1"
      }
    },
    {
      "cell_type": "code",
      "source": [
        "model.compile(loss='categorical_crossentropy', metrics=['accuracy'])"
      ],
      "metadata": {
        "id": "aMj-Zcg7xbRd"
      },
      "execution_count": 16,
      "outputs": []
    },
    {
      "cell_type": "markdown",
      "source": [
        "#Treinando"
      ],
      "metadata": {
        "id": "RabDA-WO4x_-"
      }
    },
    {
      "cell_type": "code",
      "source": [
        "history = model.fit(x_train, y_train,\n",
        "          batch_size=128,\n",
        "          epochs=20,\n",
        "          verbose=1,\n",
        "          validation_data=(x_valid, y_valid))\n",
        "\n",
        "score = model.evaluate(x_valid, y_valid, verbose=0)\n",
        "print('Test loss:', score[0])\n",
        "print('Test accuracy:', score[1])"
      ],
      "metadata": {
        "colab": {
          "base_uri": "https://localhost:8080/"
        },
        "id": "QrvT6eCVxk20",
        "outputId": "a7923759-09af-49b5-ee55-8f5e96cd24c3",
        "collapsed": true
      },
      "execution_count": 17,
      "outputs": [
        {
          "output_type": "stream",
          "name": "stdout",
          "text": [
            "Epoch 1/20\n",
            "469/469 [==============================] - 21s 16ms/step - loss: 0.1577 - accuracy: 0.9524 - val_loss: 0.5604 - val_accuracy: 0.8047\n",
            "Epoch 2/20\n",
            "469/469 [==============================] - 6s 12ms/step - loss: 0.0500 - accuracy: 0.9848 - val_loss: 0.0319 - val_accuracy: 0.9898\n",
            "Epoch 3/20\n",
            "469/469 [==============================] - 5s 12ms/step - loss: 0.0364 - accuracy: 0.9887 - val_loss: 0.0492 - val_accuracy: 0.9847\n",
            "Epoch 4/20\n",
            "469/469 [==============================] - 6s 12ms/step - loss: 0.0289 - accuracy: 0.9910 - val_loss: 0.0446 - val_accuracy: 0.9856\n",
            "Epoch 5/20\n",
            "469/469 [==============================] - 7s 14ms/step - loss: 0.0250 - accuracy: 0.9922 - val_loss: 0.0505 - val_accuracy: 0.9839\n",
            "Epoch 6/20\n",
            "469/469 [==============================] - 6s 13ms/step - loss: 0.0210 - accuracy: 0.9935 - val_loss: 0.0246 - val_accuracy: 0.9919\n",
            "Epoch 7/20\n",
            "469/469 [==============================] - 6s 12ms/step - loss: 0.0177 - accuracy: 0.9945 - val_loss: 0.0253 - val_accuracy: 0.9919\n",
            "Epoch 8/20\n",
            "469/469 [==============================] - 9s 19ms/step - loss: 0.0165 - accuracy: 0.9944 - val_loss: 0.0276 - val_accuracy: 0.9910\n",
            "Epoch 9/20\n",
            "469/469 [==============================] - 6s 12ms/step - loss: 0.0145 - accuracy: 0.9955 - val_loss: 0.0328 - val_accuracy: 0.9912\n",
            "Epoch 10/20\n",
            "469/469 [==============================] - 6s 14ms/step - loss: 0.0137 - accuracy: 0.9959 - val_loss: 0.0282 - val_accuracy: 0.9924\n",
            "Epoch 11/20\n",
            "469/469 [==============================] - 6s 14ms/step - loss: 0.0118 - accuracy: 0.9962 - val_loss: 0.0248 - val_accuracy: 0.9925\n",
            "Epoch 12/20\n",
            "469/469 [==============================] - 6s 13ms/step - loss: 0.0107 - accuracy: 0.9965 - val_loss: 0.0295 - val_accuracy: 0.9921\n",
            "Epoch 13/20\n",
            "469/469 [==============================] - 6s 12ms/step - loss: 0.0105 - accuracy: 0.9972 - val_loss: 0.0214 - val_accuracy: 0.9939\n",
            "Epoch 14/20\n",
            "469/469 [==============================] - 6s 13ms/step - loss: 0.0096 - accuracy: 0.9971 - val_loss: 0.0207 - val_accuracy: 0.9941\n",
            "Epoch 15/20\n",
            "469/469 [==============================] - 6s 12ms/step - loss: 0.0077 - accuracy: 0.9976 - val_loss: 0.0248 - val_accuracy: 0.9939\n",
            "Epoch 16/20\n",
            "469/469 [==============================] - 6s 12ms/step - loss: 0.0072 - accuracy: 0.9976 - val_loss: 0.0264 - val_accuracy: 0.9934\n",
            "Epoch 17/20\n",
            "469/469 [==============================] - 6s 13ms/step - loss: 0.0068 - accuracy: 0.9978 - val_loss: 0.0269 - val_accuracy: 0.9927\n",
            "Epoch 18/20\n",
            "469/469 [==============================] - 6s 12ms/step - loss: 0.0073 - accuracy: 0.9979 - val_loss: 0.0228 - val_accuracy: 0.9934\n",
            "Epoch 19/20\n",
            "469/469 [==============================] - 6s 12ms/step - loss: 0.0052 - accuracy: 0.9983 - val_loss: 0.0189 - val_accuracy: 0.9947\n",
            "Epoch 20/20\n",
            "469/469 [==============================] - 6s 12ms/step - loss: 0.0045 - accuracy: 0.9985 - val_loss: 0.0288 - val_accuracy: 0.9917\n",
            "Test loss: 0.02875552326440811\n",
            "Test accuracy: 0.9916999936103821\n"
          ]
        }
      ]
    },
    {
      "cell_type": "markdown",
      "source": [
        "#Traçando gráficos de precisão e perda para visualização"
      ],
      "metadata": {
        "id": "itZIHSHg42gl"
      }
    },
    {
      "cell_type": "code",
      "source": [
        "plt.plot(history.history[\"accuracy\"])\n",
        "plt.plot(history.history[\"val_accuracy\"], \"darkorange\")\n",
        "plt.title(\"model accuracy\")\n",
        "plt.ylabel(\"accuracy\")\n",
        "plt.xlabel(\"epoch\")\n",
        "plt.legend([\"train\", \"validation\"], loc=\"upper left\")\n",
        "plt.show()"
      ],
      "metadata": {
        "colab": {
          "base_uri": "https://localhost:8080/",
          "height": 472
        },
        "id": "ukrgoUa22FME",
        "outputId": "0ec2ff36-6972-4526-a432-f5d8ef2e368d"
      },
      "execution_count": 20,
      "outputs": [
        {
          "output_type": "display_data",
          "data": {
            "text/plain": [
              "<Figure size 640x480 with 1 Axes>"
            ],
            "image/png": "[encoded data removed]"
          },
          "metadata": {}
        }
      ]
    },
    {
      "cell_type": "code",
      "source": [
        "plt.plot(history.history[\"loss\"])\n",
        "plt.plot(history.history[\"val_loss\"], \"darkorange\")\n",
        "plt.title(\"model loss\")\n",
        "plt.ylabel(\"loss\")\n",
        "plt.xlabel(\"epoch\")\n",
        "plt.legend([\"train\", \"validation\"], loc=\"upper left\")\n",
        "plt.show()"
      ],
      "metadata": {
        "colab": {
          "base_uri": "https://localhost:8080/",
          "height": 472
        },
        "id": "_JhznTx43lvX",
        "outputId": "b69950fd-2202-4575-ab67-dd421821ba98"
      },
      "execution_count": 21,
      "outputs": [
        {
          "output_type": "display_data",
          "data": {
            "text/plain": [
              "<Figure size 640x480 with 1 Axes>"
            ],
            "image/png": "[encoded data removed]"
          },
          "metadata": {}
        }
      ]
    }
  ]
}