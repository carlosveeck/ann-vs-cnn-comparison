{
  "nbformat": 4,
  "nbformat_minor": 0,
  "metadata": {
    "colab": {
      "provenance": []
    },
    "kernelspec": {
      "name": "python3",
      "display_name": "Python 3"
    },
    "language_info": {
      "name": "python"
    }
  },
  "cells": [
    {
      "cell_type": "markdown",
      "source": [
        "# Importando bibliotecas"
      ],
      "metadata": {
        "id": "qExskkLb3_FJ"
      }
    },
    {
      "cell_type": "code",
      "execution_count": null,
      "metadata": {
        "id": "bf6DayOxne06"
      },
      "outputs": [],
      "source": [
        "import pandas as pd\n",
        "from keras.datasets import mnist\n",
        "from keras.layers import Dense, Dropout\n",
        "from keras.utils import to_categorical\n",
        "from keras import models\n",
        "\n"
      ]
    },
    {
      "cell_type": "markdown",
      "source": [
        "# Acessando dataset e formatando dados"
      ],
      "metadata": {
        "id": "niRGMaAF4Hak"
      }
    },
    {
      "cell_type": "code",
      "source": [
        "(x_train, y_train), (x_valid, y_valid) = mnist.load_data()"
      ],
      "metadata": {
        "id": "f986yW28qfRm"
      },
      "execution_count": null,
      "outputs": []
    },
    {
      "cell_type": "code",
      "source": [
        "x_train = x_train.reshape((x_train.shape[0], 28 * 28))\n",
        "x_train = x_train.astype('float32') / 255\n",
        "x_valid = x_valid.reshape((x_valid.shape[0], 28*28))\n",
        "x_valid = x_valid.astype('float32') / 255"
      ],
      "metadata": {
        "id": "nd2Fa5LPqp_1"
      },
      "execution_count": null,
      "outputs": []
    },
    {
      "cell_type": "markdown",
      "source": [
        "# Categorizando as labels"
      ],
      "metadata": {
        "id": "bMnrOFz14ki9"
      }
    },
    {
      "cell_type": "code",
      "source": [
        "y_train = to_categorical(y_train, 10)\n",
        "y_valid = to_categorical(y_valid, 10)"
      ],
      "metadata": {
        "id": "dDpzXsBwqyhL"
      },
      "execution_count": null,
      "outputs": []
    },
    {
      "cell_type": "markdown",
      "source": [
        "# Printando shape para visualização"
      ],
      "metadata": {
        "id": "rHNYJ-474Jfh"
      }
    },
    {
      "cell_type": "code",
      "source": [
        "x_train.shape"
      ],
      "metadata": {
        "colab": {
          "base_uri": "https://localhost:8080/"
        },
        "id": "flI49kaBq7Eg",
        "outputId": "d9873916-cbf3-4c3e-c7e2-021c207242cf"
      },
      "execution_count": null,
      "outputs": [
        {
          "output_type": "execute_result",
          "data": {
            "text/plain": [
              "(60000, 784)"
            ]
          },
          "metadata": {},
          "execution_count": 9
        }
      ]
    },
    {
      "cell_type": "code",
      "source": [
        "y_train.shape"
      ],
      "metadata": {
        "colab": {
          "base_uri": "https://localhost:8080/"
        },
        "id": "Srq19NKBq-dn",
        "outputId": "0e34e180-ebf0-4f40-8c08-1ea11f39b76d"
      },
      "execution_count": null,
      "outputs": [
        {
          "output_type": "execute_result",
          "data": {
            "text/plain": [
              "(60000, 10)"
            ]
          },
          "metadata": {},
          "execution_count": 10
        }
      ]
    },
    {
      "cell_type": "code",
      "source": [
        "x_valid.shape"
      ],
      "metadata": {
        "colab": {
          "base_uri": "https://localhost:8080/"
        },
        "id": "3JyfonxYrA2p",
        "outputId": "f3b05ed8-d0eb-44d3-de79-8e73600cb86b"
      },
      "execution_count": null,
      "outputs": [
        {
          "output_type": "execute_result",
          "data": {
            "text/plain": [
              "(10000, 784)"
            ]
          },
          "metadata": {},
          "execution_count": 11
        }
      ]
    },
    {
      "cell_type": "code",
      "source": [
        "y_valid.shape"
      ],
      "metadata": {
        "colab": {
          "base_uri": "https://localhost:8080/"
        },
        "id": "fGaLi_z8rAri",
        "outputId": "050fbd39-01b4-4a53-f683-289a45c340ea"
      },
      "execution_count": null,
      "outputs": [
        {
          "output_type": "execute_result",
          "data": {
            "text/plain": [
              "(10000, 10)"
            ]
          },
          "metadata": {},
          "execution_count": 12
        }
      ]
    },
    {
      "cell_type": "markdown",
      "source": [
        "# Visualizando os dados trabalhados"
      ],
      "metadata": {
        "id": "u-oHTzHg4UiL"
      }
    },
    {
      "cell_type": "code",
      "source": [
        "import matplotlib.pyplot as plt\n",
        "plt.figure(figsize=(40,40))\n",
        "\n",
        "num_images = 20\n",
        "for i in range(num_images):\n",
        "    row = x_train[i]\n",
        "    label = y_train[i]\n",
        "\n",
        "    image = row.reshape(28,28)\n",
        "    plt.subplot(1, num_images, i+1)\n",
        "    plt.axis('off')\n",
        "    plt.imshow(image, cmap='gray')"
      ],
      "metadata": {
        "colab": {
          "base_uri": "https://localhost:8080/",
          "height": 103
        },
        "id": "oi9HW-5TrU7w",
        "outputId": "7bfbb651-c475-4e99-9628-a993f7e72626"
      },
      "execution_count": null,
      "outputs": [
        {
          "output_type": "display_data",
          "data": {
            "text/plain": [
              "<Figure size 4000x4000 with 20 Axes>"
            ],
            "image/png": "[encoded data removed]"
          },
          "metadata": {}
        }
      ]
    },
    {
      "cell_type": "markdown",
      "source": [
        "# Verificando se está normalizado"
      ],
      "metadata": {
        "id": "Q2nOQAWO4Y4o"
      }
    },
    {
      "cell_type": "code",
      "source": [
        "x_train.min()"
      ],
      "metadata": {
        "colab": {
          "base_uri": "https://localhost:8080/"
        },
        "id": "pSV8k7_Erg15",
        "outputId": "ce86ece5-6922-4650-d6d5-a467de516e9e"
      },
      "execution_count": null,
      "outputs": [
        {
          "output_type": "execute_result",
          "data": {
            "text/plain": [
              "0.0"
            ]
          },
          "metadata": {},
          "execution_count": 18
        }
      ]
    },
    {
      "cell_type": "code",
      "source": [
        "x_train.max()"
      ],
      "metadata": {
        "colab": {
          "base_uri": "https://localhost:8080/"
        },
        "id": "_iwSF4aWrhet",
        "outputId": "854a0599-4267-4fa8-cf47-56e861ebf7fe"
      },
      "execution_count": null,
      "outputs": [
        {
          "output_type": "execute_result",
          "data": {
            "text/plain": [
              "1.0"
            ]
          },
          "metadata": {},
          "execution_count": 19
        }
      ]
    },
    {
      "cell_type": "code",
      "source": [
        "x_valid.min()"
      ],
      "metadata": {
        "colab": {
          "base_uri": "https://localhost:8080/"
        },
        "id": "A8KvvEs7tfcD",
        "outputId": "edd08c7a-4e91-4629-d2d8-752eec9f406d"
      },
      "execution_count": null,
      "outputs": [
        {
          "output_type": "execute_result",
          "data": {
            "text/plain": [
              "0.0"
            ]
          },
          "metadata": {},
          "execution_count": 23
        }
      ]
    },
    {
      "cell_type": "code",
      "source": [
        "x_valid.max()"
      ],
      "metadata": {
        "colab": {
          "base_uri": "https://localhost:8080/"
        },
        "id": "ZhTFVFsZtfQ0",
        "outputId": "b33d6af9-0cce-4b49-e59b-5d5e8c44b63c"
      },
      "execution_count": null,
      "outputs": [
        {
          "output_type": "execute_result",
          "data": {
            "text/plain": [
              "1.0"
            ]
          },
          "metadata": {},
          "execution_count": 24
        }
      ]
    },
    {
      "cell_type": "code",
      "source": [
        "print(y_train)"
      ],
      "metadata": {
        "colab": {
          "base_uri": "https://localhost:8080/"
        },
        "id": "YtnHvQlZvl5U",
        "outputId": "f9e1fd23-d616-4338-b0c7-817932486d4e"
      },
      "execution_count": null,
      "outputs": [
        {
          "output_type": "stream",
          "name": "stdout",
          "text": [
            "[[0. 0. 0. ... 0. 0. 0.]\n",
            " [1. 0. 0. ... 0. 0. 0.]\n",
            " [0. 0. 0. ... 0. 0. 0.]\n",
            " ...\n",
            " [0. 0. 0. ... 0. 0. 0.]\n",
            " [0. 0. 0. ... 0. 0. 0.]\n",
            " [0. 0. 0. ... 0. 1. 0.]]\n"
          ]
        }
      ]
    },
    {
      "cell_type": "code",
      "source": [
        "print(y_valid)"
      ],
      "metadata": {
        "colab": {
          "base_uri": "https://localhost:8080/"
        },
        "id": "2RSOch9Gvlx8",
        "outputId": "bd795ef5-4f18-4fb0-99c7-2ab08dd63265"
      },
      "execution_count": null,
      "outputs": [
        {
          "output_type": "stream",
          "name": "stdout",
          "text": [
            "[[0. 0. 0. ... 1. 0. 0.]\n",
            " [0. 0. 1. ... 0. 0. 0.]\n",
            " [0. 1. 0. ... 0. 0. 0.]\n",
            " ...\n",
            " [0. 0. 0. ... 0. 0. 0.]\n",
            " [0. 0. 0. ... 0. 0. 0.]\n",
            " [0. 0. 0. ... 0. 0. 0.]]\n"
          ]
        }
      ]
    },
    {
      "cell_type": "markdown",
      "source": [
        "# Construindo a rede neural"
      ],
      "metadata": {
        "id": "htb_6HRk4sFJ"
      }
    },
    {
      "cell_type": "code",
      "source": [
        "model = models.Sequential()\n",
        "model.add(Dense(512, activation='relu', input_shape=(784,)))\n",
        "model.add(Dropout(0.5))\n",
        "model.add(Dense(512, activation='relu'))\n",
        "model.add(Dropout(0.25))\n",
        "model.add(Dense(10, activation='softmax'))"
      ],
      "metadata": {
        "id": "b0fDIdjwv7LT"
      },
      "execution_count": null,
      "outputs": []
    },
    {
      "cell_type": "markdown",
      "source": [
        "#Compilando"
      ],
      "metadata": {
        "id": "ennqGD1U4wA1"
      }
    },
    {
      "cell_type": "code",
      "source": [
        "model.compile(loss='categorical_crossentropy', metrics=['accuracy'])"
      ],
      "metadata": {
        "id": "aMj-Zcg7xbRd"
      },
      "execution_count": null,
      "outputs": []
    },
    {
      "cell_type": "markdown",
      "source": [
        "#Treinando"
      ],
      "metadata": {
        "id": "RabDA-WO4x_-"
      }
    },
    {
      "cell_type": "code",
      "source": [
        "history = model.fit(x_train, y_train,\n",
        "          batch_size=128,\n",
        "          epochs=20,\n",
        "          verbose=1,\n",
        "          validation_data=(x_valid, y_valid))\n",
        "\n",
        "score = model.evaluate(x_valid, y_valid, verbose=0)\n",
        "print('Test loss:', score[0])\n",
        "print('Test accuracy:', score[1])"
      ],
      "metadata": {
        "colab": {
          "base_uri": "https://localhost:8080/"
        },
        "id": "QrvT6eCVxk20",
        "outputId": "1c4dd99e-f2df-4cd4-d1ce-82edbac190e1"
      },
      "execution_count": null,
      "outputs": [
        {
          "output_type": "stream",
          "name": "stdout",
          "text": [
            "Epoch 1/20\n",
            "469/469 [==============================] - 11s 24ms/step - loss: 0.0231 - accuracy: 0.9930 - val_loss: 0.0775 - val_accuracy: 0.9859\n",
            "Epoch 2/20\n",
            "469/469 [==============================] - 11s 23ms/step - loss: 0.0237 - accuracy: 0.9930 - val_loss: 0.0873 - val_accuracy: 0.9854\n",
            "Epoch 3/20\n",
            "469/469 [==============================] - 8s 17ms/step - loss: 0.0241 - accuracy: 0.9926 - val_loss: 0.0861 - val_accuracy: 0.9858\n",
            "Epoch 4/20\n",
            "469/469 [==============================] - 10s 21ms/step - loss: 0.0218 - accuracy: 0.9935 - val_loss: 0.0865 - val_accuracy: 0.9850\n",
            "Epoch 5/20\n",
            "469/469 [==============================] - 9s 19ms/step - loss: 0.0236 - accuracy: 0.9933 - val_loss: 0.0895 - val_accuracy: 0.9851\n",
            "Epoch 6/20\n",
            "469/469 [==============================] - 10s 22ms/step - loss: 0.0224 - accuracy: 0.9937 - val_loss: 0.0904 - val_accuracy: 0.9859\n",
            "Epoch 7/20\n",
            "469/469 [==============================] - 10s 22ms/step - loss: 0.0245 - accuracy: 0.9933 - val_loss: 0.0879 - val_accuracy: 0.9858\n",
            "Epoch 8/20\n",
            "469/469 [==============================] - 8s 18ms/step - loss: 0.0219 - accuracy: 0.9935 - val_loss: 0.0841 - val_accuracy: 0.9857\n",
            "Epoch 9/20\n",
            "469/469 [==============================] - 10s 22ms/step - loss: 0.0212 - accuracy: 0.9937 - val_loss: 0.0860 - val_accuracy: 0.9845\n",
            "Epoch 10/20\n",
            "469/469 [==============================] - 10s 22ms/step - loss: 0.0212 - accuracy: 0.9936 - val_loss: 0.0875 - val_accuracy: 0.9859\n",
            "Epoch 11/20\n",
            "469/469 [==============================] - 9s 18ms/step - loss: 0.0213 - accuracy: 0.9943 - val_loss: 0.0889 - val_accuracy: 0.9853\n",
            "Epoch 12/20\n",
            "469/469 [==============================] - 11s 23ms/step - loss: 0.0209 - accuracy: 0.9937 - val_loss: 0.0867 - val_accuracy: 0.9860\n",
            "Epoch 13/20\n",
            "469/469 [==============================] - 11s 23ms/step - loss: 0.0219 - accuracy: 0.9939 - val_loss: 0.0889 - val_accuracy: 0.9858\n",
            "Epoch 14/20\n",
            "469/469 [==============================] - 8s 18ms/step - loss: 0.0197 - accuracy: 0.9942 - val_loss: 0.0903 - val_accuracy: 0.9865\n",
            "Epoch 15/20\n",
            "469/469 [==============================] - 10s 22ms/step - loss: 0.0202 - accuracy: 0.9945 - val_loss: 0.0962 - val_accuracy: 0.9853\n",
            "Epoch 16/20\n",
            "469/469 [==============================] - 10s 21ms/step - loss: 0.0208 - accuracy: 0.9945 - val_loss: 0.0972 - val_accuracy: 0.9847\n",
            "Epoch 17/20\n",
            "469/469 [==============================] - 10s 21ms/step - loss: 0.0187 - accuracy: 0.9947 - val_loss: 0.0916 - val_accuracy: 0.9862\n",
            "Epoch 18/20\n",
            "469/469 [==============================] - 12s 27ms/step - loss: 0.0194 - accuracy: 0.9948 - val_loss: 0.0889 - val_accuracy: 0.9857\n",
            "Epoch 19/20\n",
            "469/469 [==============================] - 14s 30ms/step - loss: 0.0206 - accuracy: 0.9945 - val_loss: 0.0974 - val_accuracy: 0.9855\n",
            "Epoch 20/20\n",
            "469/469 [==============================] - 9s 19ms/step - loss: 0.0170 - accuracy: 0.9947 - val_loss: 0.0938 - val_accuracy: 0.9851\n",
            "Test loss: 0.0937761664390564\n",
            "Test accuracy: 0.9850999712944031\n"
          ]
        }
      ]
    },
    {
      "cell_type": "markdown",
      "source": [
        "#Traçando gráficos de precisão e perda para visualização"
      ],
      "metadata": {
        "id": "itZIHSHg42gl"
      }
    },
    {
      "cell_type": "code",
      "source": [
        "plt.plot(history.history[\"accuracy\"])\n",
        "plt.title(\"model accuracy\")\n",
        "plt.ylabel(\"accuracy\")\n",
        "plt.xlabel(\"epoch\")\n",
        "plt.legend([\"train\"], loc=\"upper left\")\n",
        "plt.show()"
      ],
      "metadata": {
        "colab": {
          "base_uri": "https://localhost:8080/",
          "height": 472
        },
        "id": "ukrgoUa22FME",
        "outputId": "360e45df-4cd4-43db-d640-ae8e3b63d7c7"
      },
      "execution_count": null,
      "outputs": [
        {
          "output_type": "display_data",
          "data": {
            "text/plain": [
              "<Figure size 640x480 with 1 Axes>"
            ],
            "image/png": "[encoded data removed]"
          },
          "metadata": {}
        }
      ]
    },
    {
      "cell_type": "code",
      "source": [
        "plt.plot(history.history[\"loss\"], \"r-\")\n",
        "plt.title(\"model loss\")\n",
        "plt.ylabel(\"loss\")\n",
        "plt.xlabel(\"epoch\")\n",
        "plt.legend([\"train\"], loc=\"upper left\")\n",
        "plt.show()"
      ],
      "metadata": {
        "colab": {
          "base_uri": "https://localhost:8080/",
          "height": 472
        },
        "id": "_JhznTx43lvX",
        "outputId": "089bd4f5-ebe1-4c26-8643-a6e49e226c60"
      },
      "execution_count": null,
      "outputs": [
        {
          "output_type": "display_data",
          "data": {
            "text/plain": [
              "<Figure size 640x480 with 1 Axes>"
            ],
            "image/png": "[encoded data removed]"
          },
          "metadata": {}
        }
      ]
    }
  ]
}